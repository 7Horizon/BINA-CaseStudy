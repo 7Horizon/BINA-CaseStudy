{
 "cells": [
  {
   "cell_type": "code",
   "execution_count": 22,
   "metadata": {
    "id": "fqPVXRnLt7Bl"
   },
   "outputs": [
    {
     "data": {
      "text/html": [
       "<div>\n",
       "<style scoped>\n",
       "    .dataframe tbody tr th:only-of-type {\n",
       "        vertical-align: middle;\n",
       "    }\n",
       "\n",
       "    .dataframe tbody tr th {\n",
       "        vertical-align: top;\n",
       "    }\n",
       "\n",
       "    .dataframe thead th {\n",
       "        text-align: right;\n",
       "    }\n",
       "</style>\n",
       "<table border=\"1\" class=\"dataframe\">\n",
       "  <thead>\n",
       "    <tr style=\"text-align: right;\">\n",
       "      <th></th>\n",
       "      <th>area_code</th>\n",
       "      <th>timestamp</th>\n",
       "      <th>num_meter</th>\n",
       "      <th>value_kwh</th>\n",
       "    </tr>\n",
       "  </thead>\n",
       "  <tbody>\n",
       "    <tr>\n",
       "      <th>0</th>\n",
       "      <td>6016</td>\n",
       "      <td>2022-04-24T05:45:00.000Z</td>\n",
       "      <td>85</td>\n",
       "      <td>7.449</td>\n",
       "    </tr>\n",
       "    <tr>\n",
       "      <th>1</th>\n",
       "      <td>6016</td>\n",
       "      <td>2022-04-24T03:30:00.000Z</td>\n",
       "      <td>85</td>\n",
       "      <td>11.407</td>\n",
       "    </tr>\n",
       "    <tr>\n",
       "      <th>2</th>\n",
       "      <td>6016</td>\n",
       "      <td>2022-04-29T06:45:00.000Z</td>\n",
       "      <td>85</td>\n",
       "      <td>7.546</td>\n",
       "    </tr>\n",
       "    <tr>\n",
       "      <th>3</th>\n",
       "      <td>6016</td>\n",
       "      <td>2022-04-30T21:30:00.000Z</td>\n",
       "      <td>85</td>\n",
       "      <td>13.642</td>\n",
       "    </tr>\n",
       "    <tr>\n",
       "      <th>4</th>\n",
       "      <td>6016</td>\n",
       "      <td>2022-04-16T06:15:00.000Z</td>\n",
       "      <td>85</td>\n",
       "      <td>13.068</td>\n",
       "    </tr>\n",
       "  </tbody>\n",
       "</table>\n",
       "</div>"
      ],
      "text/plain": [
       "   area_code                 timestamp  num_meter  value_kwh\n",
       "0       6016  2022-04-24T05:45:00.000Z         85      7.449\n",
       "1       6016  2022-04-24T03:30:00.000Z         85     11.407\n",
       "2       6016  2022-04-29T06:45:00.000Z         85      7.546\n",
       "3       6016  2022-04-30T21:30:00.000Z         85     13.642\n",
       "4       6016  2022-04-16T06:15:00.000Z         85     13.068"
      ]
     },
     "execution_count": 22,
     "metadata": {},
     "output_type": "execute_result"
    }
   ],
   "source": [
    "# Import libraries\n",
    "import glob\n",
    "import pandas as pd\n",
    "\n",
    "# Get CSV files list from a folder\n",
    "path = './DATA/smartmeter'\n",
    "csv_files = glob.glob(path + \"/*.csv.gz\")\n",
    "\n",
    "# Read each CSV file into DataFrame\n",
    "# This creates a list of dataframes\n",
    "df_list = (pd.read_csv(file) for file in csv_files)\n",
    "\n",
    "# Concatenate all DataFrames\n",
    "big_df   = pd.concat(df_list, ignore_index=True)\n",
    "big_df.head()"
   ]
  },
  {
   "cell_type": "code",
   "execution_count": null,
   "metadata": {},
   "outputs": [],
   "source": []
  },
  {
   "cell_type": "code",
   "execution_count": null,
   "metadata": {},
   "outputs": [],
   "source": []
  },
  {
   "cell_type": "code",
   "execution_count": null,
   "metadata": {},
   "outputs": [],
   "source": []
  }
 ],
 "metadata": {
  "colab": {
   "authorship_tag": "ABX9TyPeXV7bqIQvjRgkZTBE2/3U",
   "include_colab_link": true,
   "provenance": []
  },
  "kernelspec": {
   "display_name": "Python 3 (ipykernel)",
   "language": "python",
   "name": "python3"
  },
  "language_info": {
   "codemirror_mode": {
    "name": "ipython",
    "version": 3
   },
   "file_extension": ".py",
   "mimetype": "text/x-python",
   "name": "python",
   "nbconvert_exporter": "python",
   "pygments_lexer": "ipython3",
   "version": "3.12.2"
  }
 },
 "nbformat": 4,
 "nbformat_minor": 4
}
