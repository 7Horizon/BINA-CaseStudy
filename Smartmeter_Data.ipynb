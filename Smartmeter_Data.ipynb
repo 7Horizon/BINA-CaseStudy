{
 "cells": [
  {
   "cell_type": "markdown",
   "metadata": {
    "id": "view-in-github",
    "colab_type": "text"
   },
   "source": [
    "<a href=\"https://colab.research.google.com/github/7Horizon/BINA-CaseStudy/blob/master/Smartmeter_Data.ipynb\" target=\"_parent\"><img src=\"https://colab.research.google.com/assets/colab-badge.svg\" alt=\"Open In Colab\"/></a>"
   ]
  },
  {
   "cell_type": "code",
   "source": [
    "# Install packages\n",
    "!pip install openmeteo-requests\n",
    "!pip install requests-cache retry-requests"
   ],
   "metadata": {
    "colab": {
     "base_uri": "https://localhost:8080/"
    },
    "id": "ciTmwK0uIuZJ",
    "outputId": "a645065f-55a5-4991-8345-e8676099b3d9",
    "is_executing": true
   },
   "execution_count": null,
   "outputs": []
  },
  {
   "cell_type": "code",
   "execution_count": 2,
   "metadata": {
    "id": "fqPVXRnLt7Bl",
    "ExecuteTime": {
     "end_time": "2024-03-25T19:56:50.885616Z",
     "start_time": "2024-03-25T19:56:50.868846Z"
    }
   },
   "outputs": [
    {
     "ename": "ModuleNotFoundError",
     "evalue": "No module named 'openmeteo_requests'",
     "output_type": "error",
     "traceback": [
      "\u001B[0;31m---------------------------------------------------------------------------\u001B[0m",
      "\u001B[0;31mModuleNotFoundError\u001B[0m                       Traceback (most recent call last)",
      "Cell \u001B[0;32mIn[2], line 4\u001B[0m\n\u001B[1;32m      2\u001B[0m \u001B[38;5;28;01mimport\u001B[39;00m \u001B[38;5;21;01mglob\u001B[39;00m\n\u001B[1;32m      3\u001B[0m \u001B[38;5;28;01mimport\u001B[39;00m \u001B[38;5;21;01mpandas\u001B[39;00m \u001B[38;5;28;01mas\u001B[39;00m \u001B[38;5;21;01mpd\u001B[39;00m\n\u001B[0;32m----> 4\u001B[0m \u001B[38;5;28;01mimport\u001B[39;00m \u001B[38;5;21;01mopenmeteo_requests\u001B[39;00m\n\u001B[1;32m      5\u001B[0m \u001B[38;5;28;01mimport\u001B[39;00m \u001B[38;5;21;01mrequests_cache\u001B[39;00m\n\u001B[1;32m      6\u001B[0m \u001B[38;5;28;01mfrom\u001B[39;00m \u001B[38;5;21;01mretry_requests\u001B[39;00m \u001B[38;5;28;01mimport\u001B[39;00m retry\n",
      "\u001B[0;31mModuleNotFoundError\u001B[0m: No module named 'openmeteo_requests'"
     ]
    }
   ],
   "source": [
    "# Import libraries\n",
    "import glob\n",
    "import pandas as pd\n",
    "import openmeteo_requests\n",
    "import requests_cache\n",
    "from retry_requests import retry\n",
    "\n"
   ]
  },
  {
   "cell_type": "code",
   "outputs": [
    {
     "data": {
      "text/plain": "       Ortschaftsname   PLZ Zusatzziffer        Gemeindename BFS-Nr  \\\n0     Aeugst am Albis  8914           00     Aeugst am Albis      1   \n1         Aeugstertal  8914           02     Aeugst am Albis      1   \n2           Zwillikon  8909           00  Affoltern am Albis      2   \n3  Affoltern am Albis  8910           00  Affoltern am Albis      2   \n4          Bonstetten  8906           00          Bonstetten      3   \n\n  Kantonskürzel            E            N Sprache    Validity  \n0            ZH  2679402.872  1235842.010      de  2008-07-01  \n1            ZH  2679815.372  1237404.310      de  2008-07-01  \n2            ZH  2675280.133  1238108.286      de  2008-07-01  \n3            ZH  2676852.012  1236929.718      de  2008-07-01  \n4            ZH  2677412.150  1241078.278      de  2008-07-01  ",
      "text/html": "<div>\n<style scoped>\n    .dataframe tbody tr th:only-of-type {\n        vertical-align: middle;\n    }\n\n    .dataframe tbody tr th {\n        vertical-align: top;\n    }\n\n    .dataframe thead th {\n        text-align: right;\n    }\n</style>\n<table border=\"1\" class=\"dataframe\">\n  <thead>\n    <tr style=\"text-align: right;\">\n      <th></th>\n      <th>Ortschaftsname</th>\n      <th>PLZ</th>\n      <th>Zusatzziffer</th>\n      <th>Gemeindename</th>\n      <th>BFS-Nr</th>\n      <th>Kantonskürzel</th>\n      <th>E</th>\n      <th>N</th>\n      <th>Sprache</th>\n      <th>Validity</th>\n    </tr>\n  </thead>\n  <tbody>\n    <tr>\n      <th>0</th>\n      <td>Aeugst am Albis</td>\n      <td>8914</td>\n      <td>00</td>\n      <td>Aeugst am Albis</td>\n      <td>1</td>\n      <td>ZH</td>\n      <td>2679402.872</td>\n      <td>1235842.010</td>\n      <td>de</td>\n      <td>2008-07-01</td>\n    </tr>\n    <tr>\n      <th>1</th>\n      <td>Aeugstertal</td>\n      <td>8914</td>\n      <td>02</td>\n      <td>Aeugst am Albis</td>\n      <td>1</td>\n      <td>ZH</td>\n      <td>2679815.372</td>\n      <td>1237404.310</td>\n      <td>de</td>\n      <td>2008-07-01</td>\n    </tr>\n    <tr>\n      <th>2</th>\n      <td>Zwillikon</td>\n      <td>8909</td>\n      <td>00</td>\n      <td>Affoltern am Albis</td>\n      <td>2</td>\n      <td>ZH</td>\n      <td>2675280.133</td>\n      <td>1238108.286</td>\n      <td>de</td>\n      <td>2008-07-01</td>\n    </tr>\n    <tr>\n      <th>3</th>\n      <td>Affoltern am Albis</td>\n      <td>8910</td>\n      <td>00</td>\n      <td>Affoltern am Albis</td>\n      <td>2</td>\n      <td>ZH</td>\n      <td>2676852.012</td>\n      <td>1236929.718</td>\n      <td>de</td>\n      <td>2008-07-01</td>\n    </tr>\n    <tr>\n      <th>4</th>\n      <td>Bonstetten</td>\n      <td>8906</td>\n      <td>00</td>\n      <td>Bonstetten</td>\n      <td>3</td>\n      <td>ZH</td>\n      <td>2677412.150</td>\n      <td>1241078.278</td>\n      <td>de</td>\n      <td>2008-07-01</td>\n    </tr>\n  </tbody>\n</table>\n</div>"
     },
     "execution_count": 10,
     "metadata": {},
     "output_type": "execute_result"
    }
   ],
   "source": [
    "# Import city Directory for data mapping\n",
    "csv_file = './DATA/city_directory/AMTOVZ_CSV_LV95.csv'\n",
    "\n",
    "city_directory_df = pd.read_csv(csv_file, sep=';', quotechar='\"', dtype='str')\n",
    "city_directory_df.head()"
   ],
   "metadata": {
    "collapsed": false,
    "ExecuteTime": {
     "end_time": "2024-03-25T20:12:17.809662Z",
     "start_time": "2024-03-25T20:12:17.789254Z"
    }
   },
   "execution_count": 10
  },
  {
   "cell_type": "code",
   "outputs": [
    {
     "data": {
      "text/plain": "      PERIOD_REF PERIOD_COMP CODE_REGION              REGION INDICATORS  \\\n0           2019         NaN          CH             Schweiz  Ind_01_01   \n1           2019         NaN           1     Aeugst am Albis  Ind_01_01   \n2           2019         NaN           2  Affoltern am Albis  Ind_01_01   \n3           2019         NaN           3          Bonstetten  Ind_01_01   \n4           2019         NaN           4     Hausen am Albis  Ind_01_01   \n...          ...         ...         ...                 ...        ...   \n89088       2019         NaN        6806        Vendlincourt  Ind_14_10   \n89089       2019         NaN        6807       Basse-Allaine  Ind_14_10   \n89090       2019         NaN        6808       Clos du Doubs  Ind_14_10   \n89091       2019         NaN        6809         Haute-Ajoie  Ind_14_10   \n89092       2019         NaN        6810          La Baroche  Ind_14_10   \n\n      UNIT_MES    VALUE STATUS  \n0         UM_6  8606033      A  \n1         UM_6     1981      A  \n2         UM_6    12303      A  \n3         UM_6     5572      A  \n4         UM_6     3751      A  \n...        ...      ...    ...  \n89088     UM_2      NaN      M  \n89089     UM_2      NaN      M  \n89090     UM_2      NaN      M  \n89091     UM_2      NaN      M  \n89092     UM_2      NaN      M  \n\n[89093 rows x 8 columns]",
      "text/html": "<div>\n<style scoped>\n    .dataframe tbody tr th:only-of-type {\n        vertical-align: middle;\n    }\n\n    .dataframe tbody tr th {\n        vertical-align: top;\n    }\n\n    .dataframe thead th {\n        text-align: right;\n    }\n</style>\n<table border=\"1\" class=\"dataframe\">\n  <thead>\n    <tr style=\"text-align: right;\">\n      <th></th>\n      <th>PERIOD_REF</th>\n      <th>PERIOD_COMP</th>\n      <th>CODE_REGION</th>\n      <th>REGION</th>\n      <th>INDICATORS</th>\n      <th>UNIT_MES</th>\n      <th>VALUE</th>\n      <th>STATUS</th>\n    </tr>\n  </thead>\n  <tbody>\n    <tr>\n      <th>0</th>\n      <td>2019</td>\n      <td>NaN</td>\n      <td>CH</td>\n      <td>Schweiz</td>\n      <td>Ind_01_01</td>\n      <td>UM_6</td>\n      <td>8606033</td>\n      <td>A</td>\n    </tr>\n    <tr>\n      <th>1</th>\n      <td>2019</td>\n      <td>NaN</td>\n      <td>1</td>\n      <td>Aeugst am Albis</td>\n      <td>Ind_01_01</td>\n      <td>UM_6</td>\n      <td>1981</td>\n      <td>A</td>\n    </tr>\n    <tr>\n      <th>2</th>\n      <td>2019</td>\n      <td>NaN</td>\n      <td>2</td>\n      <td>Affoltern am Albis</td>\n      <td>Ind_01_01</td>\n      <td>UM_6</td>\n      <td>12303</td>\n      <td>A</td>\n    </tr>\n    <tr>\n      <th>3</th>\n      <td>2019</td>\n      <td>NaN</td>\n      <td>3</td>\n      <td>Bonstetten</td>\n      <td>Ind_01_01</td>\n      <td>UM_6</td>\n      <td>5572</td>\n      <td>A</td>\n    </tr>\n    <tr>\n      <th>4</th>\n      <td>2019</td>\n      <td>NaN</td>\n      <td>4</td>\n      <td>Hausen am Albis</td>\n      <td>Ind_01_01</td>\n      <td>UM_6</td>\n      <td>3751</td>\n      <td>A</td>\n    </tr>\n    <tr>\n      <th>...</th>\n      <td>...</td>\n      <td>...</td>\n      <td>...</td>\n      <td>...</td>\n      <td>...</td>\n      <td>...</td>\n      <td>...</td>\n      <td>...</td>\n    </tr>\n    <tr>\n      <th>89088</th>\n      <td>2019</td>\n      <td>NaN</td>\n      <td>6806</td>\n      <td>Vendlincourt</td>\n      <td>Ind_14_10</td>\n      <td>UM_2</td>\n      <td>NaN</td>\n      <td>M</td>\n    </tr>\n    <tr>\n      <th>89089</th>\n      <td>2019</td>\n      <td>NaN</td>\n      <td>6807</td>\n      <td>Basse-Allaine</td>\n      <td>Ind_14_10</td>\n      <td>UM_2</td>\n      <td>NaN</td>\n      <td>M</td>\n    </tr>\n    <tr>\n      <th>89090</th>\n      <td>2019</td>\n      <td>NaN</td>\n      <td>6808</td>\n      <td>Clos du Doubs</td>\n      <td>Ind_14_10</td>\n      <td>UM_2</td>\n      <td>NaN</td>\n      <td>M</td>\n    </tr>\n    <tr>\n      <th>89091</th>\n      <td>2019</td>\n      <td>NaN</td>\n      <td>6809</td>\n      <td>Haute-Ajoie</td>\n      <td>Ind_14_10</td>\n      <td>UM_2</td>\n      <td>NaN</td>\n      <td>M</td>\n    </tr>\n    <tr>\n      <th>89092</th>\n      <td>2019</td>\n      <td>NaN</td>\n      <td>6810</td>\n      <td>La Baroche</td>\n      <td>Ind_14_10</td>\n      <td>UM_2</td>\n      <td>NaN</td>\n      <td>M</td>\n    </tr>\n  </tbody>\n</table>\n<p>89093 rows × 8 columns</p>\n</div>"
     },
     "execution_count": 37,
     "metadata": {},
     "output_type": "execute_result"
    }
   ],
   "source": [
    "# Get Key Figures Communities\n",
    "csv_file = './DATA/key_figures_communities/ts-x-21.03.01.csv'\n",
    "\n",
    "key_figures_df = pd.read_csv(csv_file, sep=';', quotechar='\"', dtype='str')\n",
    "key_figures_df.head(10000000)"
   ],
   "metadata": {
    "collapsed": false,
    "ExecuteTime": {
     "end_time": "2024-03-25T20:58:37.624590Z",
     "start_time": "2024-03-25T20:58:37.545880Z"
    }
   },
   "execution_count": 37
  },
  {
   "cell_type": "code",
   "outputs": [
    {
     "data": {
      "text/plain": "       PERIOD_REF PERIOD_COMP CODE_REGION              REGION INDICATORS  \\\n0            2019         NaN          CH             Schweiz  Ind_01_01   \n1            2019         NaN           1     Aeugst am Albis  Ind_01_01   \n2            2019         NaN           2  Affoltern am Albis  Ind_01_01   \n3            2019         NaN           2  Affoltern am Albis  Ind_01_01   \n4            2019         NaN           3          Bonstetten  Ind_01_01   \n...           ...         ...         ...                 ...        ...   \n131933       2019         NaN        6806        Vendlincourt  Ind_14_10   \n131934       2019         NaN        6807       Basse-Allaine  Ind_14_10   \n131935       2019         NaN        6808       Clos du Doubs  Ind_14_10   \n131936       2019         NaN        6809         Haute-Ajoie  Ind_14_10   \n131937       2019         NaN        6810          La Baroche  Ind_14_10   \n\n       UNIT_MES    VALUE STATUS      Ortschaftsname   PLZ Zusatzziffer  \\\n0          UM_6  8606033      A                 NaN   NaN          NaN   \n1          UM_6     1981      A     Aeugst am Albis  8914           00   \n2          UM_6    12303      A  Affoltern am Albis  8910           00   \n3          UM_6    12303      A  Affoltern am Albis  8910           00   \n4          UM_6     5572      A          Bonstetten  8906           00   \n...         ...      ...    ...                 ...   ...          ...   \n131933     UM_2      NaN      M        Vendlincourt  2943           00   \n131934     UM_2      NaN      M                 NaN   NaN          NaN   \n131935     UM_2      NaN      M                 NaN   NaN          NaN   \n131936     UM_2      NaN      M                 NaN   NaN          NaN   \n131937     UM_2      NaN      M                 NaN   NaN          NaN   \n\n              Gemeindename BFS-Nr Kantonskürzel            E            N  \\\n0                      NaN    NaN           NaN          NaN          NaN   \n1          Aeugst am Albis      1            ZH  2679402.872  1235842.010   \n2       Affoltern am Albis      2            ZH  2676852.012  1236929.718   \n3                 Obfelden     10            ZH  2675665.187  1236090.022   \n4               Bonstetten      3            ZH  2677412.150  1241078.278   \n...                    ...    ...           ...          ...          ...   \n131933        Vendlincourt   6806            JU  2577684.852  1255794.079   \n131934                 NaN    NaN           NaN          NaN          NaN   \n131935                 NaN    NaN           NaN          NaN          NaN   \n131936                 NaN    NaN           NaN          NaN          NaN   \n131937                 NaN    NaN           NaN          NaN          NaN   \n\n       Sprache    Validity  \n0          NaN         NaN  \n1           de  2008-07-01  \n2           de  2008-07-01  \n3           de  2008-07-01  \n4           de  2008-07-01  \n...        ...         ...  \n131933      fr  2008-07-01  \n131934     NaN         NaN  \n131935     NaN         NaN  \n131936     NaN         NaN  \n131937     NaN         NaN  \n\n[131938 rows x 18 columns]",
      "text/html": "<div>\n<style scoped>\n    .dataframe tbody tr th:only-of-type {\n        vertical-align: middle;\n    }\n\n    .dataframe tbody tr th {\n        vertical-align: top;\n    }\n\n    .dataframe thead th {\n        text-align: right;\n    }\n</style>\n<table border=\"1\" class=\"dataframe\">\n  <thead>\n    <tr style=\"text-align: right;\">\n      <th></th>\n      <th>PERIOD_REF</th>\n      <th>PERIOD_COMP</th>\n      <th>CODE_REGION</th>\n      <th>REGION</th>\n      <th>INDICATORS</th>\n      <th>UNIT_MES</th>\n      <th>VALUE</th>\n      <th>STATUS</th>\n      <th>Ortschaftsname</th>\n      <th>PLZ</th>\n      <th>Zusatzziffer</th>\n      <th>Gemeindename</th>\n      <th>BFS-Nr</th>\n      <th>Kantonskürzel</th>\n      <th>E</th>\n      <th>N</th>\n      <th>Sprache</th>\n      <th>Validity</th>\n    </tr>\n  </thead>\n  <tbody>\n    <tr>\n      <th>0</th>\n      <td>2019</td>\n      <td>NaN</td>\n      <td>CH</td>\n      <td>Schweiz</td>\n      <td>Ind_01_01</td>\n      <td>UM_6</td>\n      <td>8606033</td>\n      <td>A</td>\n      <td>NaN</td>\n      <td>NaN</td>\n      <td>NaN</td>\n      <td>NaN</td>\n      <td>NaN</td>\n      <td>NaN</td>\n      <td>NaN</td>\n      <td>NaN</td>\n      <td>NaN</td>\n      <td>NaN</td>\n    </tr>\n    <tr>\n      <th>1</th>\n      <td>2019</td>\n      <td>NaN</td>\n      <td>1</td>\n      <td>Aeugst am Albis</td>\n      <td>Ind_01_01</td>\n      <td>UM_6</td>\n      <td>1981</td>\n      <td>A</td>\n      <td>Aeugst am Albis</td>\n      <td>8914</td>\n      <td>00</td>\n      <td>Aeugst am Albis</td>\n      <td>1</td>\n      <td>ZH</td>\n      <td>2679402.872</td>\n      <td>1235842.010</td>\n      <td>de</td>\n      <td>2008-07-01</td>\n    </tr>\n    <tr>\n      <th>2</th>\n      <td>2019</td>\n      <td>NaN</td>\n      <td>2</td>\n      <td>Affoltern am Albis</td>\n      <td>Ind_01_01</td>\n      <td>UM_6</td>\n      <td>12303</td>\n      <td>A</td>\n      <td>Affoltern am Albis</td>\n      <td>8910</td>\n      <td>00</td>\n      <td>Affoltern am Albis</td>\n      <td>2</td>\n      <td>ZH</td>\n      <td>2676852.012</td>\n      <td>1236929.718</td>\n      <td>de</td>\n      <td>2008-07-01</td>\n    </tr>\n    <tr>\n      <th>3</th>\n      <td>2019</td>\n      <td>NaN</td>\n      <td>2</td>\n      <td>Affoltern am Albis</td>\n      <td>Ind_01_01</td>\n      <td>UM_6</td>\n      <td>12303</td>\n      <td>A</td>\n      <td>Affoltern am Albis</td>\n      <td>8910</td>\n      <td>00</td>\n      <td>Obfelden</td>\n      <td>10</td>\n      <td>ZH</td>\n      <td>2675665.187</td>\n      <td>1236090.022</td>\n      <td>de</td>\n      <td>2008-07-01</td>\n    </tr>\n    <tr>\n      <th>4</th>\n      <td>2019</td>\n      <td>NaN</td>\n      <td>3</td>\n      <td>Bonstetten</td>\n      <td>Ind_01_01</td>\n      <td>UM_6</td>\n      <td>5572</td>\n      <td>A</td>\n      <td>Bonstetten</td>\n      <td>8906</td>\n      <td>00</td>\n      <td>Bonstetten</td>\n      <td>3</td>\n      <td>ZH</td>\n      <td>2677412.150</td>\n      <td>1241078.278</td>\n      <td>de</td>\n      <td>2008-07-01</td>\n    </tr>\n    <tr>\n      <th>...</th>\n      <td>...</td>\n      <td>...</td>\n      <td>...</td>\n      <td>...</td>\n      <td>...</td>\n      <td>...</td>\n      <td>...</td>\n      <td>...</td>\n      <td>...</td>\n      <td>...</td>\n      <td>...</td>\n      <td>...</td>\n      <td>...</td>\n      <td>...</td>\n      <td>...</td>\n      <td>...</td>\n      <td>...</td>\n      <td>...</td>\n    </tr>\n    <tr>\n      <th>131933</th>\n      <td>2019</td>\n      <td>NaN</td>\n      <td>6806</td>\n      <td>Vendlincourt</td>\n      <td>Ind_14_10</td>\n      <td>UM_2</td>\n      <td>NaN</td>\n      <td>M</td>\n      <td>Vendlincourt</td>\n      <td>2943</td>\n      <td>00</td>\n      <td>Vendlincourt</td>\n      <td>6806</td>\n      <td>JU</td>\n      <td>2577684.852</td>\n      <td>1255794.079</td>\n      <td>fr</td>\n      <td>2008-07-01</td>\n    </tr>\n    <tr>\n      <th>131934</th>\n      <td>2019</td>\n      <td>NaN</td>\n      <td>6807</td>\n      <td>Basse-Allaine</td>\n      <td>Ind_14_10</td>\n      <td>UM_2</td>\n      <td>NaN</td>\n      <td>M</td>\n      <td>NaN</td>\n      <td>NaN</td>\n      <td>NaN</td>\n      <td>NaN</td>\n      <td>NaN</td>\n      <td>NaN</td>\n      <td>NaN</td>\n      <td>NaN</td>\n      <td>NaN</td>\n      <td>NaN</td>\n    </tr>\n    <tr>\n      <th>131935</th>\n      <td>2019</td>\n      <td>NaN</td>\n      <td>6808</td>\n      <td>Clos du Doubs</td>\n      <td>Ind_14_10</td>\n      <td>UM_2</td>\n      <td>NaN</td>\n      <td>M</td>\n      <td>NaN</td>\n      <td>NaN</td>\n      <td>NaN</td>\n      <td>NaN</td>\n      <td>NaN</td>\n      <td>NaN</td>\n      <td>NaN</td>\n      <td>NaN</td>\n      <td>NaN</td>\n      <td>NaN</td>\n    </tr>\n    <tr>\n      <th>131936</th>\n      <td>2019</td>\n      <td>NaN</td>\n      <td>6809</td>\n      <td>Haute-Ajoie</td>\n      <td>Ind_14_10</td>\n      <td>UM_2</td>\n      <td>NaN</td>\n      <td>M</td>\n      <td>NaN</td>\n      <td>NaN</td>\n      <td>NaN</td>\n      <td>NaN</td>\n      <td>NaN</td>\n      <td>NaN</td>\n      <td>NaN</td>\n      <td>NaN</td>\n      <td>NaN</td>\n      <td>NaN</td>\n    </tr>\n    <tr>\n      <th>131937</th>\n      <td>2019</td>\n      <td>NaN</td>\n      <td>6810</td>\n      <td>La Baroche</td>\n      <td>Ind_14_10</td>\n      <td>UM_2</td>\n      <td>NaN</td>\n      <td>M</td>\n      <td>NaN</td>\n      <td>NaN</td>\n      <td>NaN</td>\n      <td>NaN</td>\n      <td>NaN</td>\n      <td>NaN</td>\n      <td>NaN</td>\n      <td>NaN</td>\n      <td>NaN</td>\n      <td>NaN</td>\n    </tr>\n  </tbody>\n</table>\n<p>131938 rows × 18 columns</p>\n</div>"
     },
     "execution_count": 40,
     "metadata": {},
     "output_type": "execute_result"
    }
   ],
   "source": [
    "# Add City Code\n",
    "key_figures_df_merged = key_figures_df.merge(city_directory_df, left_on='REGION', right_on='Ortschaftsname', how='left')\n",
    "#key_figures_df.drop(columns=['Ortschaftsname', 'Gemeindename', 'Validity'], axis=1, inplace=True)\n",
    "key_figures_df_merged.head(10000000)"
   ],
   "metadata": {
    "collapsed": false,
    "ExecuteTime": {
     "end_time": "2024-03-25T20:59:24.008216Z",
     "start_time": "2024-03-25T20:59:23.969258Z"
    }
   },
   "execution_count": 40
  },
  {
   "cell_type": "code",
   "outputs": [
    {
     "data": {
      "text/plain": "      PERIOD_REF PERIOD_COMP CODE_REGION              REGION INDICATORS  \\\n0           2019         NaN          CH             Schweiz  Ind_01_01   \n1           2019         NaN           1     Aeugst am Albis  Ind_01_01   \n2           2019         NaN           2  Affoltern am Albis  Ind_01_01   \n3           2019         NaN           3          Bonstetten  Ind_01_01   \n4           2019         NaN           4     Hausen am Albis  Ind_01_01   \n...          ...         ...         ...                 ...        ...   \n89088       2019         NaN        6806        Vendlincourt  Ind_14_10   \n89089       2019         NaN        6807       Basse-Allaine  Ind_14_10   \n89090       2019         NaN        6808       Clos du Doubs  Ind_14_10   \n89091       2019         NaN        6809         Haute-Ajoie  Ind_14_10   \n89092       2019         NaN        6810          La Baroche  Ind_14_10   \n\n      UNIT_MES    VALUE STATUS  \n0         UM_6  8606033      A  \n1         UM_6     1981      A  \n2         UM_6    12303      A  \n3         UM_6     5572      A  \n4         UM_6     3751      A  \n...        ...      ...    ...  \n89088     UM_2      NaN      M  \n89089     UM_2      NaN      M  \n89090     UM_2      NaN      M  \n89091     UM_2      NaN      M  \n89092     UM_2      NaN      M  \n\n[89093 rows x 8 columns]",
      "text/html": "<div>\n<style scoped>\n    .dataframe tbody tr th:only-of-type {\n        vertical-align: middle;\n    }\n\n    .dataframe tbody tr th {\n        vertical-align: top;\n    }\n\n    .dataframe thead th {\n        text-align: right;\n    }\n</style>\n<table border=\"1\" class=\"dataframe\">\n  <thead>\n    <tr style=\"text-align: right;\">\n      <th></th>\n      <th>PERIOD_REF</th>\n      <th>PERIOD_COMP</th>\n      <th>CODE_REGION</th>\n      <th>REGION</th>\n      <th>INDICATORS</th>\n      <th>UNIT_MES</th>\n      <th>VALUE</th>\n      <th>STATUS</th>\n    </tr>\n  </thead>\n  <tbody>\n    <tr>\n      <th>0</th>\n      <td>2019</td>\n      <td>NaN</td>\n      <td>CH</td>\n      <td>Schweiz</td>\n      <td>Ind_01_01</td>\n      <td>UM_6</td>\n      <td>8606033</td>\n      <td>A</td>\n    </tr>\n    <tr>\n      <th>1</th>\n      <td>2019</td>\n      <td>NaN</td>\n      <td>1</td>\n      <td>Aeugst am Albis</td>\n      <td>Ind_01_01</td>\n      <td>UM_6</td>\n      <td>1981</td>\n      <td>A</td>\n    </tr>\n    <tr>\n      <th>2</th>\n      <td>2019</td>\n      <td>NaN</td>\n      <td>2</td>\n      <td>Affoltern am Albis</td>\n      <td>Ind_01_01</td>\n      <td>UM_6</td>\n      <td>12303</td>\n      <td>A</td>\n    </tr>\n    <tr>\n      <th>3</th>\n      <td>2019</td>\n      <td>NaN</td>\n      <td>3</td>\n      <td>Bonstetten</td>\n      <td>Ind_01_01</td>\n      <td>UM_6</td>\n      <td>5572</td>\n      <td>A</td>\n    </tr>\n    <tr>\n      <th>4</th>\n      <td>2019</td>\n      <td>NaN</td>\n      <td>4</td>\n      <td>Hausen am Albis</td>\n      <td>Ind_01_01</td>\n      <td>UM_6</td>\n      <td>3751</td>\n      <td>A</td>\n    </tr>\n    <tr>\n      <th>...</th>\n      <td>...</td>\n      <td>...</td>\n      <td>...</td>\n      <td>...</td>\n      <td>...</td>\n      <td>...</td>\n      <td>...</td>\n      <td>...</td>\n    </tr>\n    <tr>\n      <th>89088</th>\n      <td>2019</td>\n      <td>NaN</td>\n      <td>6806</td>\n      <td>Vendlincourt</td>\n      <td>Ind_14_10</td>\n      <td>UM_2</td>\n      <td>NaN</td>\n      <td>M</td>\n    </tr>\n    <tr>\n      <th>89089</th>\n      <td>2019</td>\n      <td>NaN</td>\n      <td>6807</td>\n      <td>Basse-Allaine</td>\n      <td>Ind_14_10</td>\n      <td>UM_2</td>\n      <td>NaN</td>\n      <td>M</td>\n    </tr>\n    <tr>\n      <th>89090</th>\n      <td>2019</td>\n      <td>NaN</td>\n      <td>6808</td>\n      <td>Clos du Doubs</td>\n      <td>Ind_14_10</td>\n      <td>UM_2</td>\n      <td>NaN</td>\n      <td>M</td>\n    </tr>\n    <tr>\n      <th>89091</th>\n      <td>2019</td>\n      <td>NaN</td>\n      <td>6809</td>\n      <td>Haute-Ajoie</td>\n      <td>Ind_14_10</td>\n      <td>UM_2</td>\n      <td>NaN</td>\n      <td>M</td>\n    </tr>\n    <tr>\n      <th>89092</th>\n      <td>2019</td>\n      <td>NaN</td>\n      <td>6810</td>\n      <td>La Baroche</td>\n      <td>Ind_14_10</td>\n      <td>UM_2</td>\n      <td>NaN</td>\n      <td>M</td>\n    </tr>\n  </tbody>\n</table>\n<p>89093 rows × 8 columns</p>\n</div>"
     },
     "execution_count": 22,
     "metadata": {},
     "output_type": "execute_result"
    }
   ],
   "source": [
    "# Get Smartmeter Data\n",
    "# Get CSV files list from folder\n",
    "path = './DATA/smartmeter'\n",
    "csv_files = glob.glob(path + \"/*.csv.gz\")\n",
    "\n",
    "# Read each CSV file into DataFrame\n",
    "df_list = (pd.read_csv(file) for file in csv_files)\n",
    "\n",
    "# Concatenate all DataFrames\n",
    "smartmeter_df = pd.concat(df_list, ignore_index=True)\n",
    "smartmeter_df.head()"
   ],
   "metadata": {
    "id": "41JaD9EBIU71",
    "outputId": "9cb98ece-f045-46e0-bcd9-3ab2ad67d00e",
    "ExecuteTime": {
     "end_time": "2024-03-25T20:45:55.917248Z",
     "start_time": "2024-03-25T20:45:55.849502Z"
    }
   },
   "execution_count": 22
  },
  {
   "cell_type": "code",
   "execution_count": null,
   "metadata": {
    "id": "8vrMTijZIU72"
   },
   "outputs": [],
   "source": []
  },
  {
   "cell_type": "code",
   "source": [
    "# Import Weather Data from Entlebuch in a hourly base\n",
    "# Setup the Open-Meteo API client with cache and retry on error\n",
    "cache_session = requests_cache.CachedSession('.cache', expire_after = -1)\n",
    "retry_session = retry(cache_session, retries = 5, backoff_factor = 0.2)\n",
    "openmeteo = openmeteo_requests.Client(session = retry_session)\n",
    "\n",
    "# Make sure all required weather variables are listed here\n",
    "# The order of variables in hourly or daily is important to assign them correctly below\n",
    "url = \"https://archive-api.open-meteo.com/v1/archive\"\n",
    "params = {\n",
    "\t\"latitude\": 46.9956,\n",
    "\t\"longitude\": 8.0635,\n",
    "\t\"start_date\": \"2021-01-01\",\n",
    "\t\"end_date\": \"2024-03-23\",\n",
    "\t\"hourly\": [\"temperature_2m\", \"relative_humidity_2m\", \"rain\", \"snowfall\", \"weather_code\", \"cloud_cover\", \"wind_speed_10m\", \"wind_direction_10m\", \"wind_gusts_10m\", \"sunshine_duration\"],\n",
    "\t\"timezone\": \"Europe/Berlin\"\n",
    "}\n",
    "responses = openmeteo.weather_api(url, params=params)\n",
    "\n",
    "# Process first location. Add a for-loop for multiple locations or weather models\n",
    "response = responses[0]\n",
    "print(f\"Coordinates {response.Latitude()}°N {response.Longitude()}°E\")\n",
    "print(f\"Elevation {response.Elevation()} m asl\")\n",
    "print(f\"Timezone {response.Timezone()} {response.TimezoneAbbreviation()}\")\n",
    "print(f\"Timezone difference to GMT+0 {response.UtcOffsetSeconds()} s\")\n",
    "\n",
    "# Process hourly data. The order of variables needs to be the same as requested.\n",
    "hourly = response.Hourly()\n",
    "hourly_temperature_2m = hourly.Variables(0).ValuesAsNumpy()\n",
    "hourly_relative_humidity_2m = hourly.Variables(1).ValuesAsNumpy()\n",
    "hourly_rain = hourly.Variables(2).ValuesAsNumpy()\n",
    "hourly_snowfall = hourly.Variables(3).ValuesAsNumpy()\n",
    "hourly_weather_code = hourly.Variables(4).ValuesAsNumpy()\n",
    "hourly_cloud_cover = hourly.Variables(5).ValuesAsNumpy()\n",
    "hourly_wind_speed_10m = hourly.Variables(6).ValuesAsNumpy()\n",
    "hourly_wind_direction_10m = hourly.Variables(7).ValuesAsNumpy()\n",
    "hourly_wind_gusts_10m = hourly.Variables(8).ValuesAsNumpy()\n",
    "hourly_sunshine_duration = hourly.Variables(9).ValuesAsNumpy()\n",
    "\n",
    "hourly_data = {\"date\": pd.date_range(\n",
    "\tstart = pd.to_datetime(hourly.Time(), unit = \"s\", utc = True),\n",
    "\tend = pd.to_datetime(hourly.TimeEnd(), unit = \"s\", utc = True),\n",
    "\tfreq = pd.Timedelta(seconds = hourly.Interval()),\n",
    "\tinclusive = \"left\"\n",
    ")}\n",
    "hourly_data[\"temperature_2m\"] = hourly_temperature_2m\n",
    "hourly_data[\"relative_humidity_2m\"] = hourly_relative_humidity_2m\n",
    "hourly_data[\"rain\"] = hourly_rain\n",
    "hourly_data[\"snowfall\"] = hourly_snowfall\n",
    "hourly_data[\"weather_code\"] = hourly_weather_code\n",
    "hourly_data[\"cloud_cover\"] = hourly_cloud_cover\n",
    "hourly_data[\"wind_speed_10m\"] = hourly_wind_speed_10m\n",
    "hourly_data[\"wind_direction_10m\"] = hourly_wind_direction_10m\n",
    "hourly_data[\"wind_gusts_10m\"] = hourly_wind_gusts_10m\n",
    "hourly_data[\"sunshine_duration\"] = hourly_sunshine_duration\n",
    "\n",
    "hourly_dataframe = pd.DataFrame(data = hourly_data)\n",
    "hourly_dataframe.head()"
   ],
   "metadata": {
    "colab": {
     "base_uri": "https://localhost:8080/",
     "height": 387
    },
    "id": "azd5pYwbJf99",
    "outputId": "70ebf706-fbd7-400e-b1c7-40e16bcba563"
   },
   "execution_count": 8,
   "outputs": [
    {
     "output_type": "stream",
     "name": "stdout",
     "text": [
      "Coordinates 46.99472427368164°N 8.181818008422852°E\n",
      "Elevation 684.0 m asl\n",
      "Timezone b'Europe/Berlin' b'CET'\n",
      "Timezone difference to GMT+0 3600 s\n"
     ]
    },
    {
     "output_type": "execute_result",
     "data": {
      "text/plain": [
       "                       date  temperature_2m  relative_humidity_2m  rain  \\\n",
       "0 2020-12-31 23:00:00+00:00          -2.856             73.364670   0.0   \n",
       "1 2021-01-01 00:00:00+00:00          -4.006             74.575394   0.0   \n",
       "2 2021-01-01 01:00:00+00:00          -3.356             74.694954   0.0   \n",
       "3 2021-01-01 02:00:00+00:00          -3.806             74.324341   0.0   \n",
       "4 2021-01-01 03:00:00+00:00          -3.656             75.800491   0.0   \n",
       "\n",
       "   snowfall  weather_code  cloud_cover  wind_speed_10m  wind_direction_10m  \\\n",
       "0      0.07          71.0    90.300003        4.394360          214.992096   \n",
       "1      0.07          71.0    81.300003        5.400000          216.869980   \n",
       "2      0.42          73.0    54.000004        5.804825          209.744797   \n",
       "3      0.00           2.0    71.700005        5.154415          204.775116   \n",
       "4      0.00           2.0    77.100006        4.104631          217.875046   \n",
       "\n",
       "   wind_gusts_10m  sunshine_duration  \n",
       "0       19.080000                0.0  \n",
       "1       19.440001                0.0  \n",
       "2       23.759998                0.0  \n",
       "3       24.840000                0.0  \n",
       "4       21.240000                0.0  "
      ],
      "text/html": [
       "\n",
       "  <div id=\"df-dd2f6634-6821-47b4-81cb-f3442264d6f6\" class=\"colab-df-container\">\n",
       "    <div>\n",
       "<style scoped>\n",
       "    .dataframe tbody tr th:only-of-type {\n",
       "        vertical-align: middle;\n",
       "    }\n",
       "\n",
       "    .dataframe tbody tr th {\n",
       "        vertical-align: top;\n",
       "    }\n",
       "\n",
       "    .dataframe thead th {\n",
       "        text-align: right;\n",
       "    }\n",
       "</style>\n",
       "<table border=\"1\" class=\"dataframe\">\n",
       "  <thead>\n",
       "    <tr style=\"text-align: right;\">\n",
       "      <th></th>\n",
       "      <th>date</th>\n",
       "      <th>temperature_2m</th>\n",
       "      <th>relative_humidity_2m</th>\n",
       "      <th>rain</th>\n",
       "      <th>snowfall</th>\n",
       "      <th>weather_code</th>\n",
       "      <th>cloud_cover</th>\n",
       "      <th>wind_speed_10m</th>\n",
       "      <th>wind_direction_10m</th>\n",
       "      <th>wind_gusts_10m</th>\n",
       "      <th>sunshine_duration</th>\n",
       "    </tr>\n",
       "  </thead>\n",
       "  <tbody>\n",
       "    <tr>\n",
       "      <th>0</th>\n",
       "      <td>2020-12-31 23:00:00+00:00</td>\n",
       "      <td>-2.856</td>\n",
       "      <td>73.364670</td>\n",
       "      <td>0.0</td>\n",
       "      <td>0.07</td>\n",
       "      <td>71.0</td>\n",
       "      <td>90.300003</td>\n",
       "      <td>4.394360</td>\n",
       "      <td>214.992096</td>\n",
       "      <td>19.080000</td>\n",
       "      <td>0.0</td>\n",
       "    </tr>\n",
       "    <tr>\n",
       "      <th>1</th>\n",
       "      <td>2021-01-01 00:00:00+00:00</td>\n",
       "      <td>-4.006</td>\n",
       "      <td>74.575394</td>\n",
       "      <td>0.0</td>\n",
       "      <td>0.07</td>\n",
       "      <td>71.0</td>\n",
       "      <td>81.300003</td>\n",
       "      <td>5.400000</td>\n",
       "      <td>216.869980</td>\n",
       "      <td>19.440001</td>\n",
       "      <td>0.0</td>\n",
       "    </tr>\n",
       "    <tr>\n",
       "      <th>2</th>\n",
       "      <td>2021-01-01 01:00:00+00:00</td>\n",
       "      <td>-3.356</td>\n",
       "      <td>74.694954</td>\n",
       "      <td>0.0</td>\n",
       "      <td>0.42</td>\n",
       "      <td>73.0</td>\n",
       "      <td>54.000004</td>\n",
       "      <td>5.804825</td>\n",
       "      <td>209.744797</td>\n",
       "      <td>23.759998</td>\n",
       "      <td>0.0</td>\n",
       "    </tr>\n",
       "    <tr>\n",
       "      <th>3</th>\n",
       "      <td>2021-01-01 02:00:00+00:00</td>\n",
       "      <td>-3.806</td>\n",
       "      <td>74.324341</td>\n",
       "      <td>0.0</td>\n",
       "      <td>0.00</td>\n",
       "      <td>2.0</td>\n",
       "      <td>71.700005</td>\n",
       "      <td>5.154415</td>\n",
       "      <td>204.775116</td>\n",
       "      <td>24.840000</td>\n",
       "      <td>0.0</td>\n",
       "    </tr>\n",
       "    <tr>\n",
       "      <th>4</th>\n",
       "      <td>2021-01-01 03:00:00+00:00</td>\n",
       "      <td>-3.656</td>\n",
       "      <td>75.800491</td>\n",
       "      <td>0.0</td>\n",
       "      <td>0.00</td>\n",
       "      <td>2.0</td>\n",
       "      <td>77.100006</td>\n",
       "      <td>4.104631</td>\n",
       "      <td>217.875046</td>\n",
       "      <td>21.240000</td>\n",
       "      <td>0.0</td>\n",
       "    </tr>\n",
       "  </tbody>\n",
       "</table>\n",
       "</div>\n",
       "    <div class=\"colab-df-buttons\">\n",
       "\n",
       "  <div class=\"colab-df-container\">\n",
       "    <button class=\"colab-df-convert\" onclick=\"convertToInteractive('df-dd2f6634-6821-47b4-81cb-f3442264d6f6')\"\n",
       "            title=\"Convert this dataframe to an interactive table.\"\n",
       "            style=\"display:none;\">\n",
       "\n",
       "  <svg xmlns=\"http://www.w3.org/2000/svg\" height=\"24px\" viewBox=\"0 -960 960 960\">\n",
       "    <path d=\"M120-120v-720h720v720H120Zm60-500h600v-160H180v160Zm220 220h160v-160H400v160Zm0 220h160v-160H400v160ZM180-400h160v-160H180v160Zm440 0h160v-160H620v160ZM180-180h160v-160H180v160Zm440 0h160v-160H620v160Z\"/>\n",
       "  </svg>\n",
       "    </button>\n",
       "\n",
       "  <style>\n",
       "    .colab-df-container {\n",
       "      display:flex;\n",
       "      gap: 12px;\n",
       "    }\n",
       "\n",
       "    .colab-df-convert {\n",
       "      background-color: #E8F0FE;\n",
       "      border: none;\n",
       "      border-radius: 50%;\n",
       "      cursor: pointer;\n",
       "      display: none;\n",
       "      fill: #1967D2;\n",
       "      height: 32px;\n",
       "      padding: 0 0 0 0;\n",
       "      width: 32px;\n",
       "    }\n",
       "\n",
       "    .colab-df-convert:hover {\n",
       "      background-color: #E2EBFA;\n",
       "      box-shadow: 0px 1px 2px rgba(60, 64, 67, 0.3), 0px 1px 3px 1px rgba(60, 64, 67, 0.15);\n",
       "      fill: #174EA6;\n",
       "    }\n",
       "\n",
       "    .colab-df-buttons div {\n",
       "      margin-bottom: 4px;\n",
       "    }\n",
       "\n",
       "    [theme=dark] .colab-df-convert {\n",
       "      background-color: #3B4455;\n",
       "      fill: #D2E3FC;\n",
       "    }\n",
       "\n",
       "    [theme=dark] .colab-df-convert:hover {\n",
       "      background-color: #434B5C;\n",
       "      box-shadow: 0px 1px 3px 1px rgba(0, 0, 0, 0.15);\n",
       "      filter: drop-shadow(0px 1px 2px rgba(0, 0, 0, 0.3));\n",
       "      fill: #FFFFFF;\n",
       "    }\n",
       "  </style>\n",
       "\n",
       "    <script>\n",
       "      const buttonEl =\n",
       "        document.querySelector('#df-dd2f6634-6821-47b4-81cb-f3442264d6f6 button.colab-df-convert');\n",
       "      buttonEl.style.display =\n",
       "        google.colab.kernel.accessAllowed ? 'block' : 'none';\n",
       "\n",
       "      async function convertToInteractive(key) {\n",
       "        const element = document.querySelector('#df-dd2f6634-6821-47b4-81cb-f3442264d6f6');\n",
       "        const dataTable =\n",
       "          await google.colab.kernel.invokeFunction('convertToInteractive',\n",
       "                                                    [key], {});\n",
       "        if (!dataTable) return;\n",
       "\n",
       "        const docLinkHtml = 'Like what you see? Visit the ' +\n",
       "          '<a target=\"_blank\" href=https://colab.research.google.com/notebooks/data_table.ipynb>data table notebook</a>'\n",
       "          + ' to learn more about interactive tables.';\n",
       "        element.innerHTML = '';\n",
       "        dataTable['output_type'] = 'display_data';\n",
       "        await google.colab.output.renderOutput(dataTable, element);\n",
       "        const docLink = document.createElement('div');\n",
       "        docLink.innerHTML = docLinkHtml;\n",
       "        element.appendChild(docLink);\n",
       "      }\n",
       "    </script>\n",
       "  </div>\n",
       "\n",
       "\n",
       "<div id=\"df-1e1a5419-b557-40de-bd99-6b9f30c0f088\">\n",
       "  <button class=\"colab-df-quickchart\" onclick=\"quickchart('df-1e1a5419-b557-40de-bd99-6b9f30c0f088')\"\n",
       "            title=\"Suggest charts\"\n",
       "            style=\"display:none;\">\n",
       "\n",
       "<svg xmlns=\"http://www.w3.org/2000/svg\" height=\"24px\"viewBox=\"0 0 24 24\"\n",
       "     width=\"24px\">\n",
       "    <g>\n",
       "        <path d=\"M19 3H5c-1.1 0-2 .9-2 2v14c0 1.1.9 2 2 2h14c1.1 0 2-.9 2-2V5c0-1.1-.9-2-2-2zM9 17H7v-7h2v7zm4 0h-2V7h2v10zm4 0h-2v-4h2v4z\"/>\n",
       "    </g>\n",
       "</svg>\n",
       "  </button>\n",
       "\n",
       "<style>\n",
       "  .colab-df-quickchart {\n",
       "      --bg-color: #E8F0FE;\n",
       "      --fill-color: #1967D2;\n",
       "      --hover-bg-color: #E2EBFA;\n",
       "      --hover-fill-color: #174EA6;\n",
       "      --disabled-fill-color: #AAA;\n",
       "      --disabled-bg-color: #DDD;\n",
       "  }\n",
       "\n",
       "  [theme=dark] .colab-df-quickchart {\n",
       "      --bg-color: #3B4455;\n",
       "      --fill-color: #D2E3FC;\n",
       "      --hover-bg-color: #434B5C;\n",
       "      --hover-fill-color: #FFFFFF;\n",
       "      --disabled-bg-color: #3B4455;\n",
       "      --disabled-fill-color: #666;\n",
       "  }\n",
       "\n",
       "  .colab-df-quickchart {\n",
       "    background-color: var(--bg-color);\n",
       "    border: none;\n",
       "    border-radius: 50%;\n",
       "    cursor: pointer;\n",
       "    display: none;\n",
       "    fill: var(--fill-color);\n",
       "    height: 32px;\n",
       "    padding: 0;\n",
       "    width: 32px;\n",
       "  }\n",
       "\n",
       "  .colab-df-quickchart:hover {\n",
       "    background-color: var(--hover-bg-color);\n",
       "    box-shadow: 0 1px 2px rgba(60, 64, 67, 0.3), 0 1px 3px 1px rgba(60, 64, 67, 0.15);\n",
       "    fill: var(--button-hover-fill-color);\n",
       "  }\n",
       "\n",
       "  .colab-df-quickchart-complete:disabled,\n",
       "  .colab-df-quickchart-complete:disabled:hover {\n",
       "    background-color: var(--disabled-bg-color);\n",
       "    fill: var(--disabled-fill-color);\n",
       "    box-shadow: none;\n",
       "  }\n",
       "\n",
       "  .colab-df-spinner {\n",
       "    border: 2px solid var(--fill-color);\n",
       "    border-color: transparent;\n",
       "    border-bottom-color: var(--fill-color);\n",
       "    animation:\n",
       "      spin 1s steps(1) infinite;\n",
       "  }\n",
       "\n",
       "  @keyframes spin {\n",
       "    0% {\n",
       "      border-color: transparent;\n",
       "      border-bottom-color: var(--fill-color);\n",
       "      border-left-color: var(--fill-color);\n",
       "    }\n",
       "    20% {\n",
       "      border-color: transparent;\n",
       "      border-left-color: var(--fill-color);\n",
       "      border-top-color: var(--fill-color);\n",
       "    }\n",
       "    30% {\n",
       "      border-color: transparent;\n",
       "      border-left-color: var(--fill-color);\n",
       "      border-top-color: var(--fill-color);\n",
       "      border-right-color: var(--fill-color);\n",
       "    }\n",
       "    40% {\n",
       "      border-color: transparent;\n",
       "      border-right-color: var(--fill-color);\n",
       "      border-top-color: var(--fill-color);\n",
       "    }\n",
       "    60% {\n",
       "      border-color: transparent;\n",
       "      border-right-color: var(--fill-color);\n",
       "    }\n",
       "    80% {\n",
       "      border-color: transparent;\n",
       "      border-right-color: var(--fill-color);\n",
       "      border-bottom-color: var(--fill-color);\n",
       "    }\n",
       "    90% {\n",
       "      border-color: transparent;\n",
       "      border-bottom-color: var(--fill-color);\n",
       "    }\n",
       "  }\n",
       "</style>\n",
       "\n",
       "  <script>\n",
       "    async function quickchart(key) {\n",
       "      const quickchartButtonEl =\n",
       "        document.querySelector('#' + key + ' button');\n",
       "      quickchartButtonEl.disabled = true;  // To prevent multiple clicks.\n",
       "      quickchartButtonEl.classList.add('colab-df-spinner');\n",
       "      try {\n",
       "        const charts = await google.colab.kernel.invokeFunction(\n",
       "            'suggestCharts', [key], {});\n",
       "      } catch (error) {\n",
       "        console.error('Error during call to suggestCharts:', error);\n",
       "      }\n",
       "      quickchartButtonEl.classList.remove('colab-df-spinner');\n",
       "      quickchartButtonEl.classList.add('colab-df-quickchart-complete');\n",
       "    }\n",
       "    (() => {\n",
       "      let quickchartButtonEl =\n",
       "        document.querySelector('#df-1e1a5419-b557-40de-bd99-6b9f30c0f088 button');\n",
       "      quickchartButtonEl.style.display =\n",
       "        google.colab.kernel.accessAllowed ? 'block' : 'none';\n",
       "    })();\n",
       "  </script>\n",
       "</div>\n",
       "    </div>\n",
       "  </div>\n"
      ],
      "application/vnd.google.colaboratory.intrinsic+json": {
       "type": "dataframe",
       "variable_name": "hourly_dataframe",
       "summary": "{\n  \"name\": \"hourly_dataframe\",\n  \"rows\": 28272,\n  \"fields\": [\n    {\n      \"column\": \"date\",\n      \"properties\": {\n        \"dtype\": \"date\",\n        \"min\": \"2020-12-31 23:00:00+00:00\",\n        \"max\": \"2024-03-23 22:00:00+00:00\",\n        \"num_unique_values\": 28272,\n        \"samples\": [\n          \"2024-03-17 05:00:00+00:00\",\n          \"2023-09-23 00:00:00+00:00\",\n          \"2021-01-15 08:00:00+00:00\"\n        ],\n        \"semantic_type\": \"\",\n        \"description\": \"\"\n      }\n    },\n    {\n      \"column\": \"temperature_2m\",\n      \"properties\": {\n        \"dtype\": \"float32\",\n        \"num_unique_values\": 872,\n        \"samples\": [\n          30.694000244140625,\n          9.944000244140625,\n          -10.656000137329102\n        ],\n        \"semantic_type\": \"\",\n        \"description\": \"\"\n      }\n    },\n    {\n      \"column\": \"relative_humidity_2m\",\n      \"properties\": {\n        \"dtype\": \"float32\",\n        \"num_unique_values\": 24045,\n        \"samples\": [\n          58.008609771728516,\n          92.23237609863281,\n          86.84886932373047\n        ],\n        \"semantic_type\": \"\",\n        \"description\": \"\"\n      }\n    },\n    {\n      \"column\": \"rain\",\n      \"properties\": {\n        \"dtype\": \"float32\",\n        \"num_unique_values\": 125,\n        \"samples\": [\n          0.5999999642372131,\n          0.09999990463256836,\n          0.09999996423721313\n        ],\n        \"semantic_type\": \"\",\n        \"description\": \"\"\n      }\n    },\n    {\n      \"column\": \"snowfall\",\n      \"properties\": {\n        \"dtype\": \"float32\",\n        \"num_unique_values\": 34,\n        \"samples\": [\n          0.699999988079071,\n          0.9799999594688416,\n          1.399999976158142\n        ],\n        \"semantic_type\": \"\",\n        \"description\": \"\"\n      }\n    },\n    {\n      \"column\": \"weather_code\",\n      \"properties\": {\n        \"dtype\": \"float32\",\n        \"num_unique_values\": 13,\n        \"samples\": [\n          63.0,\n          61.0,\n          71.0\n        ],\n        \"semantic_type\": \"\",\n        \"description\": \"\"\n      }\n    },\n    {\n      \"column\": \"cloud_cover\",\n      \"properties\": {\n        \"dtype\": \"float32\",\n        \"num_unique_values\": 803,\n        \"samples\": [\n          84.9000015258789,\n          63.60000228881836,\n          13.200000762939453\n        ],\n        \"semantic_type\": \"\",\n        \"description\": \"\"\n      }\n    },\n    {\n      \"column\": \"wind_speed_10m\",\n      \"properties\": {\n        \"dtype\": \"float32\",\n        \"num_unique_values\": 881,\n        \"samples\": [\n          16.51690101623535,\n          9.44957160949707,\n          8.279999732971191\n        ],\n        \"semantic_type\": \"\",\n        \"description\": \"\"\n      }\n    },\n    {\n      \"column\": \"wind_direction_10m\",\n      \"properties\": {\n        \"dtype\": \"float32\",\n        \"num_unique_values\": 1900,\n        \"samples\": [\n          255.57919311523438,\n          214.69522094726562,\n          258.36639404296875\n        ],\n        \"semantic_type\": \"\",\n        \"description\": \"\"\n      }\n    },\n    {\n      \"column\": \"wind_gusts_10m\",\n      \"properties\": {\n        \"dtype\": \"float32\",\n        \"num_unique_values\": 259,\n        \"samples\": [\n          25.559999465942383,\n          13.319999694824219,\n          8.640000343322754\n        ],\n        \"semantic_type\": \"\",\n        \"description\": \"\"\n      }\n    },\n    {\n      \"column\": \"sunshine_duration\",\n      \"properties\": {\n        \"dtype\": \"float32\",\n        \"num_unique_values\": 2529,\n        \"samples\": [\n          1419.0552978515625,\n          893.4324951171875,\n          232.9227294921875\n        ],\n        \"semantic_type\": \"\",\n        \"description\": \"\"\n      }\n    }\n  ]\n}"
      }
     },
     "metadata": {},
     "execution_count": 8
    }
   ]
  },
  {
   "cell_type": "code",
   "source": [
    "# Import Solar Powerplants\n",
    "solar_powerplants = './DATA/solar_powerplants/ElectricityProductionPlant.csv'\n",
    "solar_powerplants_df = pd.read_csv(solar_powerplants, sep=',', dtype='str')\n",
    "solar_powerplants_df.head()\n"
   ],
   "metadata": {
    "id": "eJUBwdbbKxnD",
    "outputId": "6bf28f18-5ea6-408b-8c51-94371b1bd5d9",
    "colab": {
     "base_uri": "https://localhost:8080/",
     "height": 373
    },
    "ExecuteTime": {
     "end_time": "2024-03-25T19:57:33.026597Z",
     "start_time": "2024-03-25T19:57:32.718171Z"
    }
   },
   "execution_count": 5,
   "outputs": [
    {
     "data": {
      "text/plain": "  xtf_id               Address PostCode Municipality Canton  \\\n0  14727     Schlossstrasse 15     4147     Aesch BL     BL   \n1  14728        Ob der Steig 1     5082      Kaisten     AG   \n2  10164              Gässli 4     3114    Wichtrach     BE   \n3  10794  Diemtigtalstrasse 46     3753          Oey     BE   \n4   9476     Holzweidstrasse 8     8340       Hinwil     ZH   \n\n  BeginningOfOperation InitialPower TotalPower MainCategory SubCategory  \\\n0           2009-05-05        14.65      18.81    maincat_2    subcat_2   \n1           2011-10-28          5.8        5.8    maincat_2    subcat_2   \n2           2008-10-07            3          3    maincat_2    subcat_2   \n3           2008-06-27          8.4        8.4    maincat_2    subcat_2   \n4           2006-04-21          4.8        4.8    maincat_2    subcat_2   \n\n  PlantCategory       _x       _y  \n0    plantcat_9  2611936  1257011  \n1    plantcat_8  2645758  1265094  \n2    plantcat_8  2610547  1188979  \n3    plantcat_8  2610529  1167346  \n4    plantcat_8  2705863  1240553  ",
      "text/html": "<div>\n<style scoped>\n    .dataframe tbody tr th:only-of-type {\n        vertical-align: middle;\n    }\n\n    .dataframe tbody tr th {\n        vertical-align: top;\n    }\n\n    .dataframe thead th {\n        text-align: right;\n    }\n</style>\n<table border=\"1\" class=\"dataframe\">\n  <thead>\n    <tr style=\"text-align: right;\">\n      <th></th>\n      <th>xtf_id</th>\n      <th>Address</th>\n      <th>PostCode</th>\n      <th>Municipality</th>\n      <th>Canton</th>\n      <th>BeginningOfOperation</th>\n      <th>InitialPower</th>\n      <th>TotalPower</th>\n      <th>MainCategory</th>\n      <th>SubCategory</th>\n      <th>PlantCategory</th>\n      <th>_x</th>\n      <th>_y</th>\n    </tr>\n  </thead>\n  <tbody>\n    <tr>\n      <th>0</th>\n      <td>14727</td>\n      <td>Schlossstrasse 15</td>\n      <td>4147</td>\n      <td>Aesch BL</td>\n      <td>BL</td>\n      <td>2009-05-05</td>\n      <td>14.65</td>\n      <td>18.81</td>\n      <td>maincat_2</td>\n      <td>subcat_2</td>\n      <td>plantcat_9</td>\n      <td>2611936</td>\n      <td>1257011</td>\n    </tr>\n    <tr>\n      <th>1</th>\n      <td>14728</td>\n      <td>Ob der Steig 1</td>\n      <td>5082</td>\n      <td>Kaisten</td>\n      <td>AG</td>\n      <td>2011-10-28</td>\n      <td>5.8</td>\n      <td>5.8</td>\n      <td>maincat_2</td>\n      <td>subcat_2</td>\n      <td>plantcat_8</td>\n      <td>2645758</td>\n      <td>1265094</td>\n    </tr>\n    <tr>\n      <th>2</th>\n      <td>10164</td>\n      <td>Gässli 4</td>\n      <td>3114</td>\n      <td>Wichtrach</td>\n      <td>BE</td>\n      <td>2008-10-07</td>\n      <td>3</td>\n      <td>3</td>\n      <td>maincat_2</td>\n      <td>subcat_2</td>\n      <td>plantcat_8</td>\n      <td>2610547</td>\n      <td>1188979</td>\n    </tr>\n    <tr>\n      <th>3</th>\n      <td>10794</td>\n      <td>Diemtigtalstrasse 46</td>\n      <td>3753</td>\n      <td>Oey</td>\n      <td>BE</td>\n      <td>2008-06-27</td>\n      <td>8.4</td>\n      <td>8.4</td>\n      <td>maincat_2</td>\n      <td>subcat_2</td>\n      <td>plantcat_8</td>\n      <td>2610529</td>\n      <td>1167346</td>\n    </tr>\n    <tr>\n      <th>4</th>\n      <td>9476</td>\n      <td>Holzweidstrasse 8</td>\n      <td>8340</td>\n      <td>Hinwil</td>\n      <td>ZH</td>\n      <td>2006-04-21</td>\n      <td>4.8</td>\n      <td>4.8</td>\n      <td>maincat_2</td>\n      <td>subcat_2</td>\n      <td>plantcat_8</td>\n      <td>2705863</td>\n      <td>1240553</td>\n    </tr>\n  </tbody>\n</table>\n</div>"
     },
     "execution_count": 5,
     "metadata": {},
     "output_type": "execute_result"
    }
   ]
  },
  {
   "cell_type": "code",
   "outputs": [],
   "source": [],
   "metadata": {
    "collapsed": false
   }
  }
 ],
 "metadata": {
  "colab": {
   "provenance": [],
   "include_colab_link": true
  },
  "kernelspec": {
   "display_name": "Python 3 (ipykernel)",
   "language": "python",
   "name": "python3"
  },
  "language_info": {
   "codemirror_mode": {
    "name": "ipython",
    "version": 3
   },
   "file_extension": ".py",
   "mimetype": "text/x-python",
   "name": "python",
   "nbconvert_exporter": "python",
   "pygments_lexer": "ipython3",
   "version": "3.12.2"
  }
 },
 "nbformat": 4,
 "nbformat_minor": 0
}
