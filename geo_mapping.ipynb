{
 "cells": [
  {
   "cell_type": "code",
   "execution_count": 1,
   "id": "initial_id",
   "metadata": {
    "collapsed": true,
    "ExecuteTime": {
     "end_time": "2024-04-13T18:52:18.283272Z",
     "start_time": "2024-04-13T18:52:17.961302Z"
    }
   },
   "outputs": [],
   "source": [
    "# Load GEOPANDAS library\n",
    "import geopandas as gpd"
   ]
  },
  {
   "cell_type": "code",
   "outputs": [
    {
     "name": "stdout",
     "output_type": "stream",
     "text": [
      "<class 'geopandas.geodataframe.GeoDataFrame'>\n",
      "RangeIndex: 2175 entries, 0 to 2174\n",
      "Data columns (total 5 columns):\n",
      " #   Column               Non-Null Count  Dtype   \n",
      "---  ------               --------------  -----   \n",
      " 0   gemeinde.BFS_NUMMER  2175 non-null   int64   \n",
      " 1   gemeinde.NAME        2175 non-null   object  \n",
      " 2   kanton.KUERZEL       2175 non-null   object  \n",
      " 3   kanton.NAME          2175 non-null   object  \n",
      " 4   geometry             2175 non-null   geometry\n",
      "dtypes: geometry(1), int64(1), object(3)\n",
      "memory usage: 85.1+ KB\n"
     ]
    }
   ],
   "source": [
    "# read Swiss Cantons Geometry Data (as GeoFrame)\n",
    "geofilePATH = 'https://raw.githubusercontent.com/sawubona-repo/BINA-FS24-WORK/master/zDiversExamples/Notebook-GeoMapping/DATA/'\n",
    "geofileNAME = 'ch-municipalities.geojson'\n",
    "\n",
    "# Read GeoJSON geometry data into geopandas GeoDataFrame\n",
    "raw_geodf = gpd.read_file(geofilePATH+geofileNAME)\n",
    "\n",
    "raw_geodf.info()"
   ],
   "metadata": {
    "collapsed": false,
    "ExecuteTime": {
     "end_time": "2024-04-13T18:57:09.679482Z",
     "start_time": "2024-04-13T18:56:58.780243Z"
    }
   },
   "id": "cf43520b2d0b8660",
   "execution_count": 5
  },
  {
   "cell_type": "code",
   "outputs": [],
   "source": [],
   "metadata": {
    "collapsed": false
   },
   "id": "9dfd2816c5897963"
  }
 ],
 "metadata": {
  "kernelspec": {
   "display_name": "Python 3",
   "language": "python",
   "name": "python3"
  },
  "language_info": {
   "codemirror_mode": {
    "name": "ipython",
    "version": 2
   },
   "file_extension": ".py",
   "mimetype": "text/x-python",
   "name": "python",
   "nbconvert_exporter": "python",
   "pygments_lexer": "ipython2",
   "version": "2.7.6"
  }
 },
 "nbformat": 4,
 "nbformat_minor": 5
}
